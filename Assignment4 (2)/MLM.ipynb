{
  "nbformat": 4,
  "nbformat_minor": 0,
  "metadata": {
    "colab": {
      "provenance": []
    },
    "kernelspec": {
      "name": "python3",
      "display_name": "Python 3"
    },
    "language_info": {
      "name": "python"
    }
  },
  "cells": [
    {
      "cell_type": "code",
      "execution_count": 16,
      "metadata": {
        "id": "_7m1xG0WuMcZ"
      },
      "outputs": [],
      "source": [
        "import matplotlib.pyplot as plt\n",
        "import numpy as np\n",
        "from scipy import stats\n",
        "\n",
        "\n",
        "data = np.array([[12, 25], [4, 33], [2, 26], [18, 16], [15, 14], [12, 26], [0, 38],\n",
        "                 [9, 21], [3, 33], [6, 22], [10, 25], [8, 27], [9, 29], [4, 32],\n",
        "                 [1, 32], [5, 20], [21, 10], [20, 13], [7, 25], [16, 14]])"
      ]
    },
    {
      "cell_type": "code",
      "source": [
        "from sklearn.linear_model import LinearRegression"
      ],
      "metadata": {
        "id": "n9qOxF2lu1ob"
      },
      "execution_count": 17,
      "outputs": []
    },
    {
      "cell_type": "code",
      "source": [
        "# a)  (Scatter plot)\n",
        "plt.scatter(data[:, 0], data[:, 1])\n",
        "plt.xlabel('Exercise Time')\n",
        "plt.ylabel('Body Fat %')\n",
        "plt.title('Exercise Time / Body Fat Percentage')\n",
        "plt.show()"
      ],
      "metadata": {
        "colab": {
          "base_uri": "https://localhost:8080/",
          "height": 472
        },
        "id": "nHLljgu6uQVA",
        "outputId": "013898ca-78ba-4721-f919-5e9e7f421e77"
      },
      "execution_count": 18,
      "outputs": [
        {
          "output_type": "display_data",
          "data": {
            "text/plain": [
              "<Figure size 640x480 with 1 Axes>"
            ],
            "image/png": "[encoded data removed]"
          },
          "metadata": {}
        }
      ]
    },
    {
      "cell_type": "code",
      "source": [
        "X = data[:, 0]\n",
        "y = data[:, 1]\n",
        "\n",
        "\n",
        "slope, intercept, _, _, std_err_slope = stats.linregress(X, y)# 기울기와 절편, 그리고 기울기의 표준 오차 계산\n",
        "\n",
        "n = len(X)\n",
        "x_bar = np.mean(X) #X의 평균\n",
        "y_pred = slope * X + intercept #종속변수의 예측값\n",
        "SE_intercept = np.sqrt(np.sum((y - y_pred) ** 2) / (n - 2)) * np.sqrt(1 / n + (x_bar ** 2) / np.sum((X - x_bar) ** 2)) # 절편의 표준 오차를 계산\n",
        "\n",
        "\n",
        "print(\"기울기 (a):\", slope)\n",
        "print(\"절편 (b):\", intercept)\n",
        "print(\"기울기 (a) 표준편차:\", std_err_slope)\n",
        "print(\"절편 (b) 표준편차:\", SE_intercept)"
      ],
      "metadata": {
        "colab": {
          "base_uri": "https://localhost:8080/"
        },
        "id": "tVws37zOh7yJ",
        "outputId": "1b7ac80c-a86c-4900-e77a-f6c1b5bf04f1"
      },
      "execution_count": 34,
      "outputs": [
        {
          "output_type": "stream",
          "name": "stdout",
          "text": [
            "기울기 (a): -1.0622532245327718\n",
            "절편 (b): 33.716504343248225\n",
            "기울기 (a) 표준편차: 0.1440029430160775\n",
            "절편 (b) 표준편차: 1.582722714107823\n"
          ]
        }
      ]
    },
    {
      "cell_type": "markdown",
      "source": [
        "기울기 (a): -1.0622532245327718\n",
        "\n",
        "절편 (b): 33.716504343248225\n",
        "\n",
        "기울기 (a) 표준편차: 0.1440029430160775\n",
        "\n",
        "절편 (b) 표준편차: 1.582722714107823"
      ],
      "metadata": {
        "id": "du6a9DakEVW6"
      }
    },
    {
      "cell_type": "code",
      "source": [
        "#b-1)\n",
        "#운동시간 1열 체지방률 2열\n",
        "X = data[:, 0].reshape(-1, 1)  # 운동시간\n",
        "y = data[:, 1]  # 체지방률\n",
        "\n",
        "# 선형회귀\n",
        "model_mle = LinearRegression().fit(X, y)\n",
        "a_mle = model_mle.coef_[0]  # Mean of slope (a)\n",
        "b_mle = model_mle.intercept_  # Mean of intercept (b)\n",
        "\n",
        "# 기울기 a 표준편차\n",
        "_, _, _, _, std_err_a = stats.linregress(data[:, 0], data[:, 1])\n",
        "\n",
        "# 절편 b 표준편차\n",
        "y_pred = model_mle.predict(X)\n",
        "n = len(X)\n",
        "x_bar = np.mean(data[:, 0])\n",
        "SE_b = np.sqrt(np.sum((y - y_pred)**2) / (n - 2) * (1/n + x_bar**2 / np.sum((data[:, 0] - x_bar)**2)))\n",
        "\n",
        "\n",
        "print(\"기울기 (a) 평균:\", a_mle)\n",
        "print(\"기울기 (a) 표준편차:\", std_err_a)\n",
        "print(\"절편 (b) 평균:\", b_mle)\n",
        "print(\"절편 (b) 표준편차:\", SE_b)"
      ],
      "metadata": {
        "colab": {
          "base_uri": "https://localhost:8080/"
        },
        "id": "WEB8mNdDuoM-",
        "outputId": "d58aa478-fcf7-40ff-bde4-a24f563e221c"
      },
      "execution_count": 35,
      "outputs": [
        {
          "output_type": "stream",
          "name": "stdout",
          "text": [
            "기울기 (a) 평균: -1.062253224532772\n",
            "기울기 (a) 표준편차: 0.1440029430160775\n",
            "절편 (b) 평균: 33.716504343248225\n",
            "절편 (b) 표준편차: 1.5827227141078233\n"
          ]
        }
      ]
    },
    {
      "cell_type": "markdown",
      "source": [
        "기울기(a) 평균: −1.06\n",
        "\n",
        "a의 표준편차: 0.14\n",
        "\n",
        "절편(b)의 평균: 33.72\n",
        "\n",
        "b의 표준편차: 1.58"
      ],
      "metadata": {
        "id": "qGRlBEyoxOmH"
      }
    },
    {
      "cell_type": "code",
      "source": [
        "print(a_mle) #기울기a 평균\n",
        "print(std_err_a)#a의 표준편차"
      ],
      "metadata": {
        "colab": {
          "base_uri": "https://localhost:8080/"
        },
        "id": "eLx_6a4iAPU9",
        "outputId": "4ff101c5-8b95-4b57-ce46-4698d06429db"
      },
      "execution_count": 21,
      "outputs": [
        {
          "output_type": "stream",
          "name": "stdout",
          "text": [
            "-1.062253224532772\n",
            "0.1440029430160775\n"
          ]
        }
      ]
    },
    {
      "cell_type": "code",
      "source": [
        "print(b_mle)#절편b 평균\n",
        "print(SE_b)#b의 표준편차"
      ],
      "metadata": {
        "colab": {
          "base_uri": "https://localhost:8080/"
        },
        "id": "_A2t6Mo9vcts",
        "outputId": "350ce311-1320-4d66-821c-b485b0585286"
      },
      "execution_count": 22,
      "outputs": [
        {
          "output_type": "stream",
          "name": "stdout",
          "text": [
            "33.716504343248225\n",
            "1.5827227141078233\n"
          ]
        }
      ]
    },
    {
      "cell_type": "code",
      "source": [
        "\n",
        "X = data[:, 0].reshape(-1, 1)  # 운동시간\n",
        "y = data[:, 1]  #체지방률\n",
        "\n",
        "X_design = np.c_[X, np.ones(X.shape[0])]\n",
        "\n",
        "\n",
        "prior_mean = np.array([0, 0])\n",
        "prior_variance = np.array([[1, 0], [0, 1]])\n",
        "\n",
        "# 베이지안 추정\n",
        "# 후위 분산 = (prior_variance^-1 + X_design.T @ X_design)^-1\n",
        "posterior_variance_inv = np.linalg.inv(prior_variance) + X_design.T @ X_design\n",
        "posterior_variance = np.linalg.inv(posterior_variance_inv)\n",
        "\n",
        "# 전위 평균 = posterior_variance * (prior_variance^-1 * prior_mean + X_design.T @ y)\n",
        "posterior_mean = posterior_variance @ (np.linalg.inv(prior_variance) @ prior_mean + X_design.T @ y)\n",
        "\n",
        "# 베이지안\n",
        "a_bayes = posterior_mean[0]\n",
        "b_bayes = posterior_mean[1]\n",
        "\n",
        "\n",
        "print(\"Bayesian estimate of a (slope):\", a_bayes)\n",
        "print(\"Bayesian estimate of b (intercept):\", b_bayes)\n",
        "print(\"Variance of a:\", posterior_variance[0, 0])\n",
        "print(\"Variance of b:\", posterior_variance[1, 1])"
      ],
      "metadata": {
        "colab": {
          "base_uri": "https://localhost:8080/"
        },
        "id": "dFPa_8r8jLE8",
        "outputId": "67d415ae-e7aa-4fb6-9cbc-e2bb0b27da24"
      },
      "execution_count": 23,
      "outputs": [
        {
          "output_type": "stream",
          "name": "stdout",
          "text": [
            "Bayesian estimate of a (slope): -0.7129813418023024\n",
            "Bayesian estimate of b (intercept): 29.08393353371519\n",
            "Variance of a: 0.0011909487892020642\n",
            "Variance of b: 0.1370725344524471\n"
          ]
        }
      ]
    },
    {
      "cell_type": "code",
      "source": [
        "#(b-2) 베이지안 추정\n",
        "# a,b의 전위 normal 추정\n",
        "prior_mean = np.array([0, 0])\n",
        "prior_variance = np.array([[1, 0], [0, 1]])\n",
        "\n",
        "# Design matrix\n",
        "X_design = np.c_[X, np.ones(X.shape[0])]\n",
        "\n",
        "#베이지안 추\n",
        "# 후위 분산\n",
        "posterior_variance_inv = np.linalg.inv(prior_variance) + X_design.T @ X_design\n",
        "posterior_variance = np.linalg.inv(posterior_variance_inv)\n",
        "\n",
        "# 후위 평균\n",
        "posterior_mean = posterior_variance @ (np.linalg.inv(prior_variance) @ prior_mean + X_design.T @ y)\n",
        "\n",
        "a_bayes = posterior_mean[0]\n",
        "b_bayes = posterior_mean[1]"
      ],
      "metadata": {
        "id": "rQ-y0jDjuuud"
      },
      "execution_count": 24,
      "outputs": []
    },
    {
      "cell_type": "code",
      "source": [
        "print(a_bayes) # a 평균\n",
        "print(posterior_variance[0, 0]) # a 분산"
      ],
      "metadata": {
        "colab": {
          "base_uri": "https://localhost:8080/"
        },
        "id": "2nUFj-Iu2gAM",
        "outputId": "28c0aa71-b680-4c6d-b29b-c2f8f1ec9587"
      },
      "execution_count": 25,
      "outputs": [
        {
          "output_type": "stream",
          "name": "stdout",
          "text": [
            "-0.7129813418023024\n",
            "0.0011909487892020642\n"
          ]
        }
      ]
    },
    {
      "cell_type": "code",
      "source": [
        "print(b_bayes) # b 평균\n",
        "print(posterior_variance[1, 1]) # b 분산"
      ],
      "metadata": {
        "colab": {
          "base_uri": "https://localhost:8080/"
        },
        "id": "2vJ3E6S_2oH0",
        "outputId": "7d9c0916-b346-4ae3-867a-fea4b259638b"
      },
      "execution_count": 26,
      "outputs": [
        {
          "output_type": "stream",
          "name": "stdout",
          "text": [
            "29.08393353371519\n",
            "0.1370725344524471\n"
          ]
        }
      ]
    },
    {
      "cell_type": "code",
      "source": [
        "\n",
        "X = data[:, 0]\n",
        "y = data[:, 1]\n",
        "\n",
        "# MLE\n",
        "a_mle = -1.062253224532772\n",
        "b_mle = 33.716504343248225\n",
        "\n",
        "# Bayesian\n",
        "a_bayes = -0.7129813418023024\n",
        "b_bayes = 29.08393353371519\n",
        "\n",
        "# MLE 사용 예측\n",
        "y_pred_mle = a_mle * X + b_mle\n",
        "\n",
        "# Bayesian 사용 예측\n",
        "y_pred_bayes = a_bayes * X + b_bayes\n",
        "\n",
        "# RMSE\n",
        "rmse_mle = np.sqrt(np.mean((y - y_pred_mle) ** 2))\n",
        "rmse_bayes = np.sqrt(np.mean((y - y_pred_bayes) ** 2))\n",
        "\n",
        "\n",
        "print(\"RMSE for MLE model:\", rmse_mle)\n",
        "print(\"RMSE for Bayesian model:\", rmse_bayes)"
      ],
      "metadata": {
        "colab": {
          "base_uri": "https://localhost:8080/"
        },
        "id": "6_fchRVzkkOz",
        "outputId": "27d2e885-e01f-4892-d5a9-c6151f515b14"
      },
      "execution_count": 30,
      "outputs": [
        {
          "output_type": "stream",
          "name": "stdout",
          "text": [
            "RMSE for MLE model: 3.7656700763582562\n",
            "RMSE for Bayesian model: 4.5748651801440605\n"
          ]
        }
      ]
    },
    {
      "cell_type": "markdown",
      "source": [
        "RMSE for MLE model: 3.7656700763582562\n",
        "\n",
        "RMSE for Bayesian model: 4.5748651801440605"
      ],
      "metadata": {
        "id": "6ni2v1lbDB8x"
      }
    },
    {
      "cell_type": "code",
      "source": [
        "#(c) 선형 회귀 분석 및 RMSE\n",
        "# MLE estimates\n",
        "y_pred_mle = model_mle.predict(X.reshape(-1, 1))\n",
        "\n",
        "# Bayesian estimates\n",
        "y_pred_bayes = a_bayes * data[:, 0] + b_bayes\n",
        "\n",
        "# RMSE\n",
        "rmse_mle = np.sqrt(np.mean((y - y_pred_mle) ** 2))\n",
        "rmse_bayes = np.sqrt(np.mean((y - y_pred_bayes) ** 2))"
      ],
      "metadata": {
        "id": "gS2Y_L8Lux9z"
      },
      "execution_count": 31,
      "outputs": []
    },
    {
      "cell_type": "code",
      "source": [
        "#최대우도 추정 3.7656700763582562\n",
        "rmse_mle"
      ],
      "metadata": {
        "id": "qRnCCkh24Rld",
        "colab": {
          "base_uri": "https://localhost:8080/"
        },
        "outputId": "a364e803-8995-4212-9723-d176557b80cb"
      },
      "execution_count": 32,
      "outputs": [
        {
          "output_type": "execute_result",
          "data": {
            "text/plain": [
              "3.7656700763582562"
            ]
          },
          "metadata": {},
          "execution_count": 32
        }
      ]
    },
    {
      "cell_type": "code",
      "source": [
        "#베이지안 추정 4.5748651801440605\n",
        "rmse_bayes"
      ],
      "metadata": {
        "id": "afPQN7xi4TmA",
        "colab": {
          "base_uri": "https://localhost:8080/"
        },
        "outputId": "95205b1b-d9f9-490e-cb5b-18b68d80b413"
      },
      "execution_count": 33,
      "outputs": [
        {
          "output_type": "execute_result",
          "data": {
            "text/plain": [
              "4.5748651801440605"
            ]
          },
          "metadata": {},
          "execution_count": 33
        }
      ]
    },
    {
      "cell_type": "markdown",
      "source": [
        "(d)\n",
        "운동 시간이 증가함에 따라 체지방 비율이 감소하는 경향이 있다.\n",
        "\n",
        "MLE 모델은 독립 변수 X가 증가할 때 종속 변수 y가 더 빠르게 감소하는 것으로 추정하는 반면, 베이지안 모델은 이 감소가 덜 가파르다고 추정"
      ],
      "metadata": {
        "id": "70lOzMhfwdzj"
      }
    }
  ]
}